{
 "cells": [
  {
   "cell_type": "code",
   "execution_count": 1,
   "id": "d9d97f15-f6e2-4b5d-b09e-6b67c6aee398",
   "metadata": {},
   "outputs": [],
   "source": [
    "import pandas as pd"
   ]
  },
  {
   "cell_type": "code",
   "execution_count": 4,
   "id": "998ff14c-c861-4220-9706-b47c1bfedc1a",
   "metadata": {},
   "outputs": [
    {
     "data": {
      "text/html": [
       "<div>\n",
       "<style scoped>\n",
       "    .dataframe tbody tr th:only-of-type {\n",
       "        vertical-align: middle;\n",
       "    }\n",
       "\n",
       "    .dataframe tbody tr th {\n",
       "        vertical-align: top;\n",
       "    }\n",
       "\n",
       "    .dataframe thead th {\n",
       "        text-align: right;\n",
       "    }\n",
       "</style>\n",
       "<table border=\"1\" class=\"dataframe\">\n",
       "  <thead>\n",
       "    <tr style=\"text-align: right;\">\n",
       "      <th></th>\n",
       "      <th>Incipit</th>\n",
       "    </tr>\n",
       "  </thead>\n",
       "  <tbody>\n",
       "    <tr>\n",
       "      <th>0</th>\n",
       "      <td>IN NOVO TESTAMENTO POST CHRISTUM DOMINUM</td>\n",
       "    </tr>\n",
       "    <tr>\n",
       "      <th>1</th>\n",
       "      <td>SACROSANCTA ROMANA ET APOSTOLICA ECCLESIA NON</td>\n",
       "    </tr>\n",
       "    <tr>\n",
       "      <th>2</th>\n",
       "      <td>IPSI TRADO A DOMINO MIHI TRADITAM</td>\n",
       "    </tr>\n",
       "    <tr>\n",
       "      <th>3</th>\n",
       "      <td>SI TE MULTI EX FRATRIBUS PROPTER</td>\n",
       "    </tr>\n",
       "    <tr>\n",
       "      <th>4</th>\n",
       "      <td>SED ET VOS FRATRES CARISSIMI ET</td>\n",
       "    </tr>\n",
       "    <tr>\n",
       "      <th>...</th>\n",
       "      <td>...</td>\n",
       "    </tr>\n",
       "    <tr>\n",
       "      <th>94594</th>\n",
       "      <td>VIDETUR NOBIS EX SENTENTIA RESPONDENDUM QUOD</td>\n",
       "    </tr>\n",
       "    <tr>\n",
       "      <th>94595</th>\n",
       "      <td>QUIA PIACULARE FLAGITIUM COMMISIT QUI DUABUS</td>\n",
       "    </tr>\n",
       "    <tr>\n",
       "      <th>94650</th>\n",
       "      <td>MULIEREM CONSTAT DOMINIO VIRI SUBDITAM ESSE</td>\n",
       "    </tr>\n",
       "    <tr>\n",
       "      <th>94660</th>\n",
       "      <td>EAM QUAM ALIQUIS EX PROPRIA CONSANGUINITATE</td>\n",
       "    </tr>\n",
       "    <tr>\n",
       "      <th>94661</th>\n",
       "      <td>HOC QUOQUE CONSTITUTUM EST UT RELICTAM</td>\n",
       "    </tr>\n",
       "  </tbody>\n",
       "</table>\n",
       "<p>37090 rows × 1 columns</p>\n",
       "</div>"
      ],
      "text/plain": [
       "                                             Incipit\n",
       "0           IN NOVO TESTAMENTO POST CHRISTUM DOMINUM\n",
       "1      SACROSANCTA ROMANA ET APOSTOLICA ECCLESIA NON\n",
       "2                  IPSI TRADO A DOMINO MIHI TRADITAM\n",
       "3                   SI TE MULTI EX FRATRIBUS PROPTER\n",
       "4                    SED ET VOS FRATRES CARISSIMI ET\n",
       "...                                              ...\n",
       "94594   VIDETUR NOBIS EX SENTENTIA RESPONDENDUM QUOD\n",
       "94595   QUIA PIACULARE FLAGITIUM COMMISIT QUI DUABUS\n",
       "94650    MULIEREM CONSTAT DOMINIO VIRI SUBDITAM ESSE\n",
       "94660    EAM QUAM ALIQUIS EX PROPRIA CONSANGUINITATE\n",
       "94661         HOC QUOQUE CONSTITUTUM EST UT RELICTAM\n",
       "\n",
       "[37090 rows x 1 columns]"
      ]
     },
     "execution_count": 4,
     "metadata": {},
     "output_type": "execute_result"
    }
   ],
   "source": [
    "\n",
    "# making data frame from csv file\n",
    "data = pd.read_csv(\"incipit.csv\")\n",
    "\n",
    "# dropping ALL duplicate values\n",
    "data.drop_duplicates(subset=['Incipit'], inplace=True)\n",
    "\n",
    "# displaying data\n",
    "data\n"
   ]
  },
  {
   "cell_type": "code",
   "execution_count": 5,
   "id": "677d7c9b-e45d-45f0-85ec-0e2874a6a95a",
   "metadata": {},
   "outputs": [],
   "source": [
    "data.to_csv('incipit_reconcile.csv')"
   ]
  }
 ],
 "metadata": {
  "kernelspec": {
   "display_name": "Python 3 (ipykernel)",
   "language": "python",
   "name": "python3"
  },
  "language_info": {
   "codemirror_mode": {
    "name": "ipython",
    "version": 3
   },
   "file_extension": ".py",
   "mimetype": "text/x-python",
   "name": "python",
   "nbconvert_exporter": "python",
   "pygments_lexer": "ipython3",
   "version": "3.9.13"
  }
 },
 "nbformat": 4,
 "nbformat_minor": 5
}
